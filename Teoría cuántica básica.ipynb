{
 "cells": [
  {
   "cell_type": "markdown",
   "metadata": {},
   "source": [
    "# Teoría cuántica básica, Observables y Medidas\n",
    "\n",
    "## Simule el primer sistema cuántico descrito en la sección 4.1.\n",
    "\n",
    "El sistema consiste en una partícula confinada a un conjunto discreto de posiciones en una línea. El simulador debe permitir especificar el número de posiciones y un vector ket de estado asignando las amplitudes.\n",
    "\n",
    "1. El sistema debe calcular la probabilidad de encontrarlo en una posición en particular.\n",
    "\n",
    "2. El sistema si se le da otro vector Ket debe buscar la probabilidad de transitar del primer vector al segundo."
   ]
  },
  {
   "cell_type": "code",
   "execution_count": null,
   "metadata": {},
   "outputs": [
    {
     "name": "stdout",
     "output_type": "stream",
     "text": [
      "La probabilidad de encontrar la particula en la posicion dada es: 4.545454545454546 %\n"
     ]
    }
   ],
   "source": [
    "import numpy as np\n",
    "\n",
    "def normaV(a):\n",
    "    normaV = np.linalg.norm(a)\n",
    "    return normaV\n",
    "\n",
    "def probabilidadP(ket, position):\n",
    "    c = normaV(ket[position]) ** 2\n",
    "    b = normaV(ket) ** 2\n",
    "    return c / b\n",
    "def main():\n",
    "    ket = np.array([[2+5j], [4+3j], [1+0j], [1+2j]])\n",
    "    probabilidad = probabilidadP(ket, 2)\n",
    "    print(\"La probabilidad de encontrar la particula en la posicion dada es:\", probabilidad*100, \"%\")\n",
    "main()\n",
    "\n"
   ]
  },
  {
   "cell_type": "code",
   "execution_count": 2,
   "metadata": {},
   "outputs": [
    {
     "name": "stdout",
     "output_type": "stream",
     "text": [
      "La probabilidad de transitar del vector [[2.-1.j]\n",
      " [0.+3.j]] al vector [[1.+1.j ]\n",
      " [2.-1.2j]] es: 15.760000000000002\n"
     ]
    }
   ],
   "source": [
    "import numpy as np\n",
    "def transition_probability(ket1, ket2):\n",
    "    \n",
    "    producto_interno = np.vdot(ket2, ket1)\n",
    "    \n",
    "    transition_prob = np.abs(producto_interno)**2\n",
    "    \n",
    "    return transition_prob\n",
    "def main():\n",
    "    ket1 = np.array([[2-1j], [0+3j]])\n",
    "    ket2 = np.array([[1+1j], [2-1.2j]])\n",
    "    transicion_f = transition_probability(ket1, ket2)\n",
    "    print(f\"La probabilidad de transitar del vector {ket1} al vector {ket2} es:\", transicion_f)\n",
    "main()"
   ]
  },
  {
   "cell_type": "code",
   "execution_count": 12,
   "metadata": {},
   "outputs": [
    {
     "name": "stdout",
     "output_type": "stream",
     "text": [
      "La probabilidad de transitar del estado [[3.-2.j]\n",
      " [1.+0.j]] al estado [[1.+3.j]\n",
      " [2.-1.j]] es: 101.0\n"
     ]
    }
   ],
   "source": [
    "import numpy as np\n",
    "\n",
    "def calcular_probabilidad_transicion(estado1, estado2):\n",
    "    producto_escalar = np.vdot(estado2, estado1)\n",
    "    probabilidad_transicion = np.abs(producto_escalar)**2\n",
    "    return probabilidad_transicion\n",
    "\n",
    "def ejecutar():\n",
    "    estado1 = np.array([[3-2j], [1+0j]])\n",
    "    estado2 = np.array([[1+3j], [2-1j]])\n",
    "    probabilidad = calcular_probabilidad_transicion(estado1, estado2)\n",
    "    print(f\"La probabilidad de transitar del estado {estado1} al estado {estado2} es:\", probabilidad)\n",
    "\n",
    "ejecutar()\n"
   ]
  }
 ],
 "metadata": {
  "kernelspec": {
   "display_name": "Python 3",
   "language": "python",
   "name": "python3"
  },
  "language_info": {
   "codemirror_mode": {
    "name": "ipython",
    "version": 3
   },
   "file_extension": ".py",
   "mimetype": "text/x-python",
   "name": "python",
   "nbconvert_exporter": "python",
   "pygments_lexer": "ipython3",
   "version": "3.11.6"
  }
 },
 "nbformat": 4,
 "nbformat_minor": 2
}
