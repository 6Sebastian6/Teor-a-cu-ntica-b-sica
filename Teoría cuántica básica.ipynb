{
 "cells": [
  {
   "cell_type": "markdown",
   "metadata": {},
   "source": [
    "# Teoría cuántica básica, Observables y Medidas\n",
    "\n",
    "## Simule el primer sistema cuántico descrito en la sección 4.1.\n",
    "\n",
    "El sistema consiste en una partícula confinada a un conjunto discreto de posiciones en una línea. El simulador debe permitir especificar el número de posiciones y un vector ket de estado asignando las amplitudes.\n",
    "\n",
    "1. El sistema debe calcular la probabilidad de encontrarlo en una posición en particular.\n",
    "\n",
    "2. El sistema si se le da otro vector Ket debe buscar la probabilidad de transitar del primer vector al segundo."
   ]
  },
  {
   "cell_type": "code",
   "execution_count": null,
   "metadata": {},
   "outputs": [
    {
     "name": "stdout",
     "output_type": "stream",
     "text": [
      "La probabilidad de encontrar la particula en la posicion dada es: 4.545454545454546 %\n"
     ]
    }
   ],
   "source": [
    "import numpy as np\n",
    "\n",
    "def normaV(a):\n",
    "    normaV = np.linalg.norm(a)\n",
    "    return normaV\n",
    "\n",
    "def probabilidadP(ket, position):\n",
    "    c = normaV(ket[position]) ** 2\n",
    "    b = normaV(ket) ** 2\n",
    "    return c / b\n",
    "def main():\n",
    "    ket = np.array([[2+5j], [4+3j], [1+0j], [1+2j]])\n",
    "    probabilidad = probabilidadP(ket, 2)\n",
    "    print(\"La probabilidad de encontrar la particula en la posicion dada es:\", probabilidad*100, \"%\")\n",
    "main()\n",
    "\n"
   ]
  },
  {
   "cell_type": "code",
   "execution_count": 2,
   "metadata": {},
   "outputs": [
    {
     "name": "stdout",
     "output_type": "stream",
     "text": [
      "La probabilidad de transitar del vector [[2.-1.j]\n",
      " [0.+3.j]] al vector [[1.+1.j ]\n",
      " [2.-1.2j]] es: 15.760000000000002\n"
     ]
    }
   ],
   "source": [
    "import numpy as np\n",
    "def transition_probability(ket1, ket2):\n",
    "    \n",
    "    producto_interno = np.vdot(ket2, ket1)\n",
    "    \n",
    "    transition_prob = np.abs(producto_interno)**2\n",
    "    \n",
    "    return transition_prob\n",
    "def main():\n",
    "    ket1 = np.array([[2-1j], [0+3j]])\n",
    "    ket2 = np.array([[1+1j], [2-1.2j]])\n",
    "    transicion_f = transition_probability(ket1, ket2)\n",
    "    print(f\"La probabilidad de transitar del vector {ket1} al vector {ket2} es:\", transicion_f)\n",
    "main()"
   ]
  },
  {
   "cell_type": "code",
   "execution_count": 12,
   "metadata": {},
   "outputs": [
    {
     "name": "stdout",
     "output_type": "stream",
     "text": [
      "La probabilidad de transitar del estado [[3.-2.j]\n",
      " [1.+0.j]] al estado [[1.+3.j]\n",
      " [2.-1.j]] es: 101.0\n"
     ]
    }
   ],
   "source": [
    "import numpy as np\n",
    "\n",
    "def calcular_probabilidad_transicion(estado1, estado2):\n",
    "    producto_escalar = np.vdot(estado2, estado1)\n",
    "    probabilidad_transicion = np.abs(producto_escalar)**2\n",
    "    return probabilidad_transicion\n",
    "\n",
    "def ejecutar():\n",
    "    estado1 = np.array([[3-2j], [1+0j]])\n",
    "    estado2 = np.array([[1+3j], [2-1j]])\n",
    "    probabilidad = calcular_probabilidad_transicion(estado1, estado2)\n",
    "    print(f\"La probabilidad de transitar del estado {estado1} al estado {estado2} es:\", probabilidad)\n",
    "\n",
    "ejecutar()\n"
   ]
  },
  {
   "cell_type": "markdown",
   "metadata": {},
   "source": [
    "## Complete los retos de programación del capítulo 4.\n",
    "\n",
    "1. Amplitud de transición. El sistema puede recibir dos vectores y calcular la probabilidad de transitar de el uno al otro después de hacer la observación\n",
    "\n",
    "2. Ahora con una matriz que describa un observable y un vector ket, el sistema revisa que la matriz sea hermitiana, y si lo es, calcula la media y la varianza del observable en el estado dado.\n",
    "\n",
    "3. El sistema calcula los valores propios del observable y la probabilidad de que el sistema transite a alguno de los vectores propios después de la observación.\n",
    "\n",
    "4. Se considera la dinámica del sistema. Ahora con una serie de matrices Un el sistema calcula el estado final a partir de un estado inicial.\n"
   ]
  },
  {
   "cell_type": "code",
   "execution_count": null,
   "metadata": {},
   "outputs": [],
   "source": [
    "#punto 1\n",
    "import numpy as np\n",
    "\n",
    "def es_normalizado(vector, tolerancia=1e-10):\n",
    "    return np.abs(np.linalg.norm(vector) - 1) < tolerancia\n",
    "\n",
    "def asegurar_normalizacion(vector):\n",
    "    return vector if es_normalizado(vector) else aplicar_normalizacion(vector)\n",
    "\n",
    "def aplicar_normalizacion(vector):\n",
    "    return vector / np.linalg.norm(vector)\n",
    "\n",
    "def calcular_amplitud_transicion(estado1, estado2):\n",
    "    return np.vdot(estado2, estado1)\n",
    "\n",
    "def main():\n",
    "    estado1 = np.array([[2-1j], [0+3j]])\n",
    "    estado2 = np.array([[1+1j], [2-1.2j]])\n",
    "\n",
    "    estado1 = asegurar_normalizacion(estado1)\n",
    "    estado2 = asegurar_normalizacion(estado2)\n",
    "\n",
    "    amplitud = calcular_amplitud_transicion(estado1, estado2)\n",
    "    print(f\"Amplitud de transición ⟨estado2|estado1⟩: {amplitud}\")\n",
    "\n",
    "main()"
   ]
  },
  {
   "cell_type": "code",
   "execution_count": null,
   "metadata": {},
   "outputs": [],
   "source": [
    "# punto 2\n",
    "\n",
    "import numpy as np\n",
    "\n",
    "def is_hermitian(matrix, tol=1e-10):\n",
    "    return np.allclose(matrix, np.conjugate(matrix.T), atol=tol)\n",
    "\n",
    "def expectation_value(matrix, ket):\n",
    "    return np.vdot(ket, np.dot(matrix, ket))\n",
    "\n",
    "def variance(matrix, ket):\n",
    "\n",
    "    expectation = expectation_value(matrix, ket)\n",
    "    \n",
    "    matrix_squared = np.dot(matrix, matrix)\n",
    "    expectation_squared = expectation_value(matrix_squared, ket)\n",
    "    \n",
    "    variance = expectation_squared - np.abs(expectation)**2\n",
    "    \n",
    "    return variance\n",
    "\n",
    "observable = np.array([[1, 2j, 0],\n",
    "                       [-2j, 3, 0],\n",
    "                       [0, 0, 2]])\n",
    "\n",
    "ket = [1+0j, 3+1j, 1+1j]\n",
    "\n",
    "if is_hermitian(observable):\n",
    "    print(\"La matriz es hermitiana.\")\n",
    "    \n",
    "    expected_value = expectation_value(observable, ket)\n",
    "    print(f\"Valor esperado ⟨A⟩: {expected_value}\")\n",
    "    \n",
    "    var = variance(observable, ket)\n",
    "    print(f\"Varianza: {var}\")\n",
    "else:\n",
    "    print(\"La matriz no es hermitiana.\")"
   ]
  },
  {
   "cell_type": "code",
   "execution_count": null,
   "metadata": {},
   "outputs": [],
   "source": [
    "# punto 3\n",
    "\n",
    "import numpy as np\n",
    "\n",
    "def is_hermitian(matrix, tol=1e-10):\n",
    "    return np.allclose(matrix, np.conjugate(matrix.T), atol=tol)\n",
    "\n",
    "def eigenvalues_and_eigenvectors(matrix):\n",
    "    \n",
    "    eigenvalues, eigenvectors = np.linalg.eigh(matrix)  # eigh para matrices hermitianas\n",
    "    return eigenvalues, eigenvectors\n",
    "\n",
    "def transition_probabilities_to_eigenstates(ket, eigenvectors):\n",
    "\n",
    "    ket = np.array(ket, dtype=complex)\n",
    "    probabilities = []\n",
    "    \n",
    "    for eigenvector in eigenvectors.T:\n",
    "        amplitude = np.vdot(eigenvector, ket)  # Producto interno entre el ket y el vector propio\n",
    "        probability = np.abs(amplitude)**2  # Probabilidad es el valor absoluto al cuadrado\n",
    "        probabilities.append(probability)\n",
    "    \n",
    "    return probabilities\n",
    "\n",
    "\n",
    "observable = np.array([[1, 2j, 0],\n",
    "                       [-2j, 3, 0],\n",
    "                       [0, 0, 2]])\n",
    "\n",
    "ket = [1+0j, 2+1j, 3+0j]\n",
    "\n",
    "if is_hermitian(observable):\n",
    "    print(\"La matriz es hermitiana.\")\n",
    "    \n",
    "    eigenvalues, eigenvectors = eigenvalues_and_eigenvectors(observable)\n",
    "    print(f\"Valores propios: {eigenvalues}\")\n",
    "    print(f\"Vectores propios:\\n{eigenvectors}\")\n",
    "    \n",
    "    transition_probs = transition_probabilities_to_eigenstates(ket, eigenvectors)\n",
    "    \n",
    "    for i, prob in enumerate(transition_probs):\n",
    "        print(f\"Probabilidad de transitar al vector propio {i}: {prob}\")\n",
    "else:\n",
    "    print(\"La matriz no es hermitiana.\")"
   ]
  },
  {
   "cell_type": "code",
   "execution_count": null,
   "metadata": {},
   "outputs": [],
   "source": [
    "# punto 4\n",
    "\n",
    "import numpy as np\n",
    "\n",
    "Sx = np.array([[0, 1],[1, 0]], dtype=complex)\n",
    "\n",
    "eigenvalues, eigenvectors = np.linalg.eig(Sx)\n",
    "\n",
    "print(\"Valores propios:\")\n",
    "print(eigenvalues)\n",
    "\n",
    "print(\"\\nVectores propios:\")\n",
    "print(eigenvectors)\n",
    "print(\"Esto significa que hay dos posibles estados a los que se puede transitar, spin up y spin down, sin embargo el observable hara que siempre sea spin down\")"
   ]
  },
  {
   "cell_type": "markdown",
   "metadata": {},
   "source": [
    "## Realice los siguientes problemas e incluyalos como ejemplos\n",
    "Modele en su librería los problemas\n",
    "4.3.1\n",
    "4.3.2\n",
    "4.4.1\n",
    "4.4.2\n"
   ]
  },
  {
   "cell_type": "code",
   "execution_count": null,
   "metadata": {},
   "outputs": [],
   "source": [
    "#4.3.1\n",
    "\n",
    "import numpy as np\n",
    "\n",
    "Sx = np.array([[0, 1],[1, 0]], dtype=complex)\n",
    "\n",
    "eigenvalues, eigenvectors = np.linalg.eig(Sx)\n",
    "\n",
    "print(\"Valores propios:\")\n",
    "print(eigenvalues)\n",
    "\n",
    "print(\"\\nVectores propios:\")\n",
    "print(eigenvectors)\n",
    "print(\"Esto significa que hay dos posibles estados a los que se puede transitar, spin up y spin down, sin embargo el observable hara que siempre sea spin down\")"
   ]
  }
 ],
 "metadata": {
  "kernelspec": {
   "display_name": "Python 3",
   "language": "python",
   "name": "python3"
  },
  "language_info": {
   "codemirror_mode": {
    "name": "ipython",
    "version": 3
   },
   "file_extension": ".py",
   "mimetype": "text/x-python",
   "name": "python",
   "nbconvert_exporter": "python",
   "pygments_lexer": "ipython3",
   "version": "3.11.6"
  }
 },
 "nbformat": 4,
 "nbformat_minor": 2
}
